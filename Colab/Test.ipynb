{
  "nbformat": 4,
  "nbformat_minor": 0,
  "metadata": {
    "colab": {
      "name": "Test.ipynb",
      "version": "0.3.2",
      "provenance": [],
      "include_colab_link": true
    },
    "kernelspec": {
      "name": "python3",
      "display_name": "Python 3"
    }
  },
  "cells": [
    {
      "cell_type": "markdown",
      "metadata": {
        "id": "view-in-github",
        "colab_type": "text"
      },
      "source": [
        "[View in Colaboratory](https://colab.research.google.com/github/Duayt/Self_Study_Model/blob/master/Colab/Test.ipynb)"
      ]
    },
    {
      "metadata": {
        "id": "95cZdzcnG6kY",
        "colab_type": "code",
        "colab": {
          "base_uri": "https://localhost:8080/",
          "height": 35
        },
        "outputId": "5fc3bd4b-d150-4209-dd7d-e9058fdfdb0e"
      },
      "cell_type": "code",
      "source": [
        "import numpy as np\n",
        "np.random.seed(120)\n",
        "A= np.random.randint(1,101,5)\n",
        "print(\"Before Sort :\",A)"
      ],
      "execution_count": 0,
      "outputs": [
        {
          "output_type": "stream",
          "text": [
            "Before Sort : [40  1 31 96 11]\n"
          ],
          "name": "stdout"
        }
      ]
    },
    {
      "metadata": {
        "id": "_M0ctIEvIf_7",
        "colab_type": "code",
        "colab": {}
      },
      "cell_type": "code",
      "source": [
        "def insert_sort(A):\n",
        "    for j in range(1, len(A)):\n",
        "        key = A[j]\n",
        "        i = j-1\n",
        "        while i >= 0 and A[i] > key:\n",
        "            A[i+1] =A[i]\n",
        "            i -=1\n",
        "        A[i+1] = key\n",
        "    return A\n",
        " "
      ],
      "execution_count": 0,
      "outputs": []
    },
    {
      "metadata": {
        "id": "VfLxrhWIIl0b",
        "colab_type": "code",
        "colab": {
          "base_uri": "https://localhost:8080/",
          "height": 52
        },
        "outputId": "cebfc456-1a54-44a3-ea47-c2930390d200"
      },
      "cell_type": "code",
      "source": [
        "%%timeit\n",
        "insert_sort(A)\n"
      ],
      "execution_count": 0,
      "outputs": [
        {
          "output_type": "stream",
          "text": [
            "The slowest run took 10.50 times longer than the fastest. This could mean that an intermediate result is being cached.\n",
            "1000000 loops, best of 3: 1.91 µs per loop\n"
          ],
          "name": "stdout"
        }
      ]
    }
  ]
}